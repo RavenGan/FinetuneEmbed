{
 "cells": [
  {
   "cell_type": "code",
   "execution_count": 1,
   "id": "b4a4fa93",
   "metadata": {},
   "outputs": [],
   "source": [
    "import torch\n",
    "import pandas as pd\n",
    "import os\n",
    "import json\n",
    "from torch.utils.data import DataLoader\n",
    "import pickle\n",
    "# Specify the working directory\n",
    "os.chdir('/Users/david/Desktop/FinetuneEmbed')\n",
    "\n",
    "# load gene ncbi descriptions\n",
    "with open(\"./data/gene_text/hs_ncbi_gene_text.json\", \"r\") as file:\n",
    "    gene_descriptions = json.load(file)"
   ]
  },
  {
   "cell_type": "markdown",
   "id": "817e05ec",
   "metadata": {},
   "source": [
    "## Long- vs short- range TFs\n",
    "The input data used here are downloaded from Chen et al. (2020) (link: https://www-nature-com.stanford.idm.oclc.org/articles/s41467-020-16106-x)."
   ]
  },
  {
   "cell_type": "code",
   "execution_count": null,
   "id": "6a4f6fbf",
   "metadata": {},
   "outputs": [],
   "source": [
    "# long_short_range_tf = pd.read_csv('./data/long_vs_shortTF/41467_2020_16106_MOESM4_ESM.csv')\n",
    "# long_range_tf_gene = list(long_short_range_tf[long_short_range_tf['assignment']=='long-range TF']\\\n",
    "#                                 ['Unnamed: 0'])\n",
    "# long_range_tf_gene = list(set(long_range_tf_gene) & set(gene_descriptions.keys())) # find the intersected genes\n",
    "\n",
    "# short_range_tf_gene = list(long_short_range_tf[long_short_range_tf['assignment']=='short-range TF']\\\n",
    "#                                 ['Unnamed: 0'])\n",
    "# short_range_tf_gene = list(set(short_range_tf_gene) & set(gene_descriptions.keys())) # find the intersected genes"
   ]
  },
  {
   "cell_type": "markdown",
   "id": "ef59d202",
   "metadata": {},
   "source": [
    "The input data used here are downloaded from the geneformer paper Hugging Face website (link: https://huggingface.co/datasets/ctheodoris/Genecorpus-30M/tree/main/example_input_files/gene_classification)."
   ]
  },
  {
   "cell_type": "code",
   "execution_count": 2,
   "id": "594aca2a",
   "metadata": {},
   "outputs": [
    {
     "name": "stderr",
     "output_type": "stream",
     "text": [
      "2 input query terms found no hit:\t['ENSG00000269603', 'ENSG00000267841']\n"
     ]
    }
   ],
   "source": [
    "with open(\"./data/long_vs_shortTF/example_input_files_gene_classification_tf_regulatory_range_tf_regulatory_range.pickle\", \"rb\") as f:\n",
    "    check_data = pickle.load(f)\n",
    "\n",
    "long_range_tf_gene = check_data['long_range']\n",
    "short_range_tf_gene = check_data['short_range']\n",
    "\n",
    "import mygene\n",
    "# convert gene id to gene symbols\n",
    "mg = mygene.MyGeneInfo()\n",
    "long_range_query = mg.querymany(long_range_tf_gene, species='human')\n",
    "short_range_query = mg.querymany(short_range_tf_gene, species='human')\n",
    "long_range_gene_name = [x['symbol'] for x in long_range_query]\n",
    "short_range_gene_name = [x['symbol'] for x in short_range_query if 'symbol' in x]\n",
    "\n",
    "long_range_tf_gene = list(set(long_range_gene_name) & set(gene_descriptions.keys())) # find the intersected genes\n",
    "short_range_tf_gene = list(set(short_range_gene_name) & set(gene_descriptions.keys())) # find the intersected genes"
   ]
  },
  {
   "cell_type": "code",
   "execution_count": 3,
   "id": "394d091a",
   "metadata": {},
   "outputs": [],
   "source": [
    "from sklearn.model_selection import train_test_split\n",
    "tf_genes = long_range_tf_gene + short_range_tf_gene\n",
    "labels = [1] * len(long_range_tf_gene) + [0] * len(short_range_tf_gene) # 1 for long-range TF, 0 for short-range TF\n",
    "# Split into train and test sets\n",
    "genes_train, genes_test, labels_train, labels_test = train_test_split(tf_genes, labels, test_size=0.2, stratify=labels, random_state=7)\n",
    "\n",
    "desc_train = [gene_descriptions[gene] for gene in genes_train]\n",
    "desc_test = [gene_descriptions[gene] for gene in genes_test]\n",
    "\n",
    "# Save the data\n",
    "train_to_save = {'genes':genes_train, 'desc':desc_train, 'labels':labels_train}\n",
    "val_to_save = {'genes':genes_test, 'desc':desc_test, 'labels':labels_test}\n",
    "# Save as a pickle file\n",
    "with open(\"./data/long_vs_shortTF/train_data.pkl\", \"wb\") as f:\n",
    "    pickle.dump(train_to_save, f)\n",
    "with open(\"./data/long_vs_shortTF/test_data.pkl\", \"wb\") as f:\n",
    "    pickle.dump(val_to_save, f)"
   ]
  }
 ],
 "metadata": {
  "kernelspec": {
   "display_name": "myenv",
   "language": "python",
   "name": "python3"
  },
  "language_info": {
   "codemirror_mode": {
    "name": "ipython",
    "version": 3
   },
   "file_extension": ".py",
   "mimetype": "text/x-python",
   "name": "python",
   "nbconvert_exporter": "python",
   "pygments_lexer": "ipython3",
   "version": "3.10.8"
  }
 },
 "nbformat": 4,
 "nbformat_minor": 5
}

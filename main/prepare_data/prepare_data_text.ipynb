{
 "cells": [
  {
   "cell_type": "code",
   "execution_count": 1,
   "id": "b4a4fa93",
   "metadata": {},
   "outputs": [],
   "source": [
    "import torch\n",
    "import pandas as pd\n",
    "import os\n",
    "import json\n",
    "from torch.utils.data import DataLoader\n",
    "import pickle\n",
    "# Specify the working directory\n",
    "os.chdir('/Users/david/Desktop/FinetuneEmbed')\n",
    "\n",
    "# load gene ncbi descriptions\n",
    "with open(\"./data/gene_text/hs_ncbi_gene_text.json\", \"r\") as file:\n",
    "    gene_descriptions = json.load(file)\n",
    "\n",
    "random_seed = 2"
   ]
  },
  {
   "cell_type": "markdown",
   "id": "817e05ec",
   "metadata": {},
   "source": [
    "## Long- vs short- range TFs\n",
    "The input data used here are downloaded from the geneformer paper Hugging Face website (link: https://huggingface.co/datasets/ctheodoris/Genecorpus-30M/tree/main/example_input_files/gene_classification)."
   ]
  },
  {
   "cell_type": "code",
   "execution_count": 2,
   "id": "594aca2a",
   "metadata": {},
   "outputs": [
    {
     "name": "stderr",
     "output_type": "stream",
     "text": [
      "2 input query terms found no hit:\t['ENSG00000269603', 'ENSG00000267841']\n"
     ]
    }
   ],
   "source": [
    "with open(\"./data/long_vs_shortTF/example_input_files_gene_classification_tf_regulatory_range_tf_regulatory_range.pickle\", \"rb\") as f:\n",
    "    check_data = pickle.load(f)\n",
    "\n",
    "long_range_tf_gene = check_data['long_range']\n",
    "short_range_tf_gene = check_data['short_range']\n",
    "\n",
    "import mygene\n",
    "# convert gene id to gene symbols\n",
    "mg = mygene.MyGeneInfo()\n",
    "long_range_query = mg.querymany(long_range_tf_gene, species='human')\n",
    "short_range_query = mg.querymany(short_range_tf_gene, species='human')\n",
    "long_range_gene_name = [x['symbol'] for x in long_range_query]\n",
    "short_range_gene_name = [x['symbol'] for x in short_range_query if 'symbol' in x]\n",
    "\n",
    "long_range_tf_gene = list(set(long_range_gene_name) & set(gene_descriptions.keys())) # find the intersected genes\n",
    "short_range_tf_gene = list(set(short_range_gene_name) & set(gene_descriptions.keys())) # find the intersected genes"
   ]
  },
  {
   "cell_type": "code",
   "execution_count": null,
   "id": "394d091a",
   "metadata": {},
   "outputs": [],
   "source": [
    "from sklearn.model_selection import train_test_split\n",
    "genes = long_range_tf_gene + short_range_tf_gene\n",
    "labels = [1] * len(long_range_tf_gene) + [0] * len(short_range_tf_gene) # 1 for long-range TF, 0 for short-range TF\n",
    "# Split into train and test sets\n",
    "genes_train, genes_test, labels_train, labels_test = train_test_split(genes, labels, test_size=0.1, stratify=labels, random_state=random_seed)\n",
    "\n",
    "desc_train = [gene_descriptions[gene] for gene in genes_train]\n",
    "desc_test = [gene_descriptions[gene] for gene in genes_test]\n",
    "\n",
    "# Save the data\n",
    "train_to_save = {'genes':genes_train, 'desc':desc_train, 'labels':labels_train}\n",
    "val_to_save = {'genes':genes_test, 'desc':desc_test, 'labels':labels_test}\n",
    "# Save as a pickle file\n",
    "with open(\"./data/long_vs_shortTF/train_data.pkl\", \"wb\") as f:\n",
    "    pickle.dump(train_to_save, f)\n",
    "with open(\"./data/long_vs_shortTF/test_data.pkl\", \"wb\") as f:\n",
    "    pickle.dump(val_to_save, f)"
   ]
  },
  {
   "cell_type": "markdown",
   "id": "448c09a9",
   "metadata": {},
   "source": [
    "## Dosage sensitive vs insensitive TFs\n",
    "link_file = \"https://huggingface.co/datasets/ctheodoris/Genecorpus-30M/raw/main/example_input_files/gene_classification/dosage_sensitive_tfs/dosage_sens_tf_labels.csv\""
   ]
  },
  {
   "cell_type": "code",
   "execution_count": 4,
   "id": "666d6d1a",
   "metadata": {},
   "outputs": [
    {
     "name": "stderr",
     "output_type": "stream",
     "text": [
      "1 input query terms found no hit:\t['ENSG00000215271']\n"
     ]
    }
   ],
   "source": [
    "with open(f\"./data/DosageSensitivity/example_input_files_gene_classification_dosage_sensitive_tfs_dosage_sensitivity_TFs.pickle\", \"rb\") as fp:\n",
    "    dosage_tfs = pickle.load(fp)\n",
    "sensitive = dosage_tfs[\"Dosage-sensitive TFs\"]\n",
    "insensitive = dosage_tfs[\"Dosage-insensitive TFs\"]\n",
    "\n",
    "import mygene\n",
    "# convert gene id to gene symbols\n",
    "mg = mygene.MyGeneInfo()\n",
    "sensitive_query = mg.querymany(sensitive, species='human')\n",
    "in_sensitive_query = mg.querymany(insensitive, species='human')\n",
    "sensitive_gene_name = [x['symbol'] for x in sensitive_query]\n",
    "insensitive_gene_name = [x['symbol'] for x in in_sensitive_query if 'symbol' in x]\n",
    "\n",
    "sensitive_gene = list(set(sensitive_gene_name) & set(gene_descriptions.keys())) # find the intersected genes\n",
    "insensitive_gene = list(set(insensitive_gene_name) & set(gene_descriptions.keys())) # find the intersected genes"
   ]
  },
  {
   "cell_type": "code",
   "execution_count": 5,
   "id": "dd69e220",
   "metadata": {},
   "outputs": [],
   "source": [
    "from sklearn.model_selection import train_test_split\n",
    "genes = sensitive_gene + insensitive_gene\n",
    "labels = [1] * len(sensitive_gene) + [0] * len(insensitive_gene) # 1 for sensitive, 0 for insensitive\n",
    "# Split into train and test sets\n",
    "genes_train, genes_test, labels_train, labels_test = train_test_split(genes, labels, test_size=0.1, stratify=labels, random_state=random_seed)\n",
    "\n",
    "desc_train = [gene_descriptions[gene] for gene in genes_train]\n",
    "desc_test = [gene_descriptions[gene] for gene in genes_test]\n",
    "\n",
    "# Save the data\n",
    "train_to_save = {'genes':genes_train, 'desc':desc_train, 'labels':labels_train}\n",
    "val_to_save = {'genes':genes_test, 'desc':desc_test, 'labels':labels_test}\n",
    "\n",
    "# Save as a pickle file\n",
    "with open(\"./data/DosageSensitivity/train_data.pkl\", \"wb\") as f:\n",
    "    pickle.dump(train_to_save, f)\n",
    "with open(\"./data/DosageSensitivity/test_data.pkl\", \"wb\") as f:\n",
    "    pickle.dump(val_to_save, f)"
   ]
  },
  {
   "cell_type": "markdown",
   "id": "7ecefed9",
   "metadata": {},
   "source": [
    "## Methylation state prediction\n",
    "The csv files are downloaded from https://huggingface.co/datasets/ctheodoris/Genecorpus-30M/"
   ]
  },
  {
   "cell_type": "markdown",
   "id": "92775ca1",
   "metadata": {},
   "source": [
    "#### Bivalent vs. lys4"
   ]
  },
  {
   "cell_type": "code",
   "execution_count": 6,
   "id": "0dc4cbd9",
   "metadata": {},
   "outputs": [
    {
     "name": "stderr",
     "output_type": "stream",
     "text": [
      "10 input query terms found dup hits:\t[('ENSG00000007372', 2), ('ENSG00000110693', 2), ('ENSG00000117707', 2), ('ENSG00000120093', 2), ('E\n",
      "2 input query terms found dup hits:\t[('ENSG00000196628', 2), ('ENSG00000198728', 2)]\n"
     ]
    }
   ],
   "source": [
    "with open(f\"./data/MethylationState/example_input_files_gene_classification_bivalent_promoters_bivalent_vs_lys4_only.pickle\", \"rb\") as fp:\n",
    "    bivalent_vs_lys4 = pickle.load(fp)\n",
    "\n",
    "bivalent_gene_labels = bivalent_vs_lys4['bivalent']\n",
    "lysine_gene_labels = bivalent_vs_lys4['lys4_only']\n",
    "\n",
    "import mygene\n",
    "# convert gene id to gene symbols\n",
    "mg = mygene.MyGeneInfo()\n",
    "bivalent_query = mg.querymany(bivalent_gene_labels, species='human')\n",
    "lysine_query = mg.querymany(lysine_gene_labels, species='human')\n",
    "bivalent_gene_name = [x.get('symbol', '') for x in bivalent_query]\n",
    "lysine_gene_name = [x.get('symbol', '') for x in lysine_query if 'symbol' in x]\n",
    "\n",
    "bivalent_gene = list(set(bivalent_gene_name) & set(gene_descriptions.keys())) # find the intersected genes\n",
    "lysine_gene = list(set(lysine_gene_name) & set(gene_descriptions.keys())) # find the intersected genes"
   ]
  },
  {
   "cell_type": "code",
   "execution_count": 7,
   "id": "49c3b964",
   "metadata": {},
   "outputs": [],
   "source": [
    "from sklearn.model_selection import train_test_split\n",
    "genes = bivalent_gene + lysine_gene\n",
    "labels = [1] * len(bivalent_gene) + [0] * len(lysine_gene) # 1 for bivalent_gene, 0 for lysine_gene\n",
    "# Split into train and test sets\n",
    "genes_train, genes_test, labels_train, labels_test = train_test_split(genes, labels, test_size=0.1, stratify=labels, random_state=random_seed)\n",
    "\n",
    "desc_train = [gene_descriptions[gene] for gene in genes_train]\n",
    "desc_test = [gene_descriptions[gene] for gene in genes_test]\n",
    "\n",
    "# Save the data\n",
    "train_to_save = {'genes':genes_train, 'desc':desc_train, 'labels':labels_train}\n",
    "val_to_save = {'genes':genes_test, 'desc':desc_test, 'labels':labels_test}\n",
    "\n",
    "# Save as a pickle file\n",
    "with open(\"./data/MethylationState/bivalent_vs_lys4/train_data.pkl\", \"wb\") as f:\n",
    "    pickle.dump(train_to_save, f)\n",
    "with open(\"./data/MethylationState/bivalent_vs_lys4/test_data.pkl\", \"wb\") as f:\n",
    "    pickle.dump(val_to_save, f)"
   ]
  },
  {
   "cell_type": "markdown",
   "id": "ac260269",
   "metadata": {},
   "source": [
    "#### Bivalent vs. no methyl"
   ]
  },
  {
   "cell_type": "code",
   "execution_count": 8,
   "id": "5bc13c80",
   "metadata": {},
   "outputs": [
    {
     "name": "stderr",
     "output_type": "stream",
     "text": [
      "10 input query terms found dup hits:\t[('ENSG00000007372', 2), ('ENSG00000110693', 2), ('ENSG00000117707', 2), ('ENSG00000120093', 2), ('E\n",
      "2 input query terms found dup hits:\t[('ENSG00000147488', 2), ('ENSG00000151322', 2)]\n"
     ]
    }
   ],
   "source": [
    "with open(f\"./data/MethylationState/example_input_files_gene_classification_bivalent_promoters_bivalent_vs_no_methyl.pickle\", \"rb\") as fp:\n",
    "    bivalent_vs_no_methyl = pickle.load(fp)\n",
    "\n",
    "bivalent_gene_labels = bivalent_vs_no_methyl['bivalent']\n",
    "no_methylation_gene_labels = bivalent_vs_no_methyl['no_methylation']\n",
    "\n",
    "import mygene\n",
    "# convert gene id to gene symbols\n",
    "mg = mygene.MyGeneInfo()\n",
    "bivalent_query = mg.querymany(bivalent_gene_labels, species='human')\n",
    "no_methylation_query = mg.querymany(no_methylation_gene_labels, species='human')\n",
    "bivalent_gene_name = [x.get('symbol', '') for x in bivalent_query]\n",
    "no_methylation_gene_name = [x.get('symbol', '') for x in no_methylation_query if 'symbol' in x]\n",
    "\n",
    "bivalent_gene = list(set(bivalent_gene_name) & set(gene_descriptions.keys())) # find the intersected genes\n",
    "no_methylation_gene = list(set(no_methylation_gene_name) & set(gene_descriptions.keys())) # find the intersected genes"
   ]
  },
  {
   "cell_type": "code",
   "execution_count": 9,
   "id": "7f04d013",
   "metadata": {},
   "outputs": [],
   "source": [
    "from sklearn.model_selection import train_test_split\n",
    "genes = bivalent_gene + no_methylation_gene\n",
    "labels = [1] * len(bivalent_gene) + [0] * len(no_methylation_gene) # 1 for bivalent_gene, 0 for no_methylation_gene\n",
    "# Split into train and test sets\n",
    "genes_train, genes_test, labels_train, labels_test = train_test_split(genes, labels, test_size=0.1, stratify=labels, random_state=random_seed)\n",
    "\n",
    "desc_train = [gene_descriptions[gene] for gene in genes_train]\n",
    "desc_test = [gene_descriptions[gene] for gene in genes_test]\n",
    "\n",
    "# Save the data\n",
    "train_to_save = {'genes':genes_train, 'desc':desc_train, 'labels':labels_train}\n",
    "val_to_save = {'genes':genes_test, 'desc':desc_test, 'labels':labels_test}\n",
    "\n",
    "# Save as a pickle file\n",
    "with open(\"./data/MethylationState/bivalent_vs_no_methyl/train_data.pkl\", \"wb\") as f:\n",
    "    pickle.dump(train_to_save, f)\n",
    "with open(\"./data/MethylationState/bivalent_vs_no_methyl/test_data.pkl\", \"wb\") as f:\n",
    "    pickle.dump(val_to_save, f)"
   ]
  }
 ],
 "metadata": {
  "kernelspec": {
   "display_name": "Python 3",
   "language": "python",
   "name": "python3"
  },
  "language_info": {
   "codemirror_mode": {
    "name": "ipython",
    "version": 3
   },
   "file_extension": ".py",
   "mimetype": "text/x-python",
   "name": "python",
   "nbconvert_exporter": "python",
   "pygments_lexer": "ipython3",
   "version": "3.12.7"
  }
 },
 "nbformat": 4,
 "nbformat_minor": 5
}

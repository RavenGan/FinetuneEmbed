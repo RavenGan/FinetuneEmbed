{
 "cells": [
  {
   "cell_type": "code",
   "execution_count": 1,
   "metadata": {},
   "outputs": [],
   "source": [
    "import os\n",
    "import pandas as pd\n",
    "# Specify the working directory\n",
    "os.chdir('/Users/david/Desktop/FinetuneEmbed')\n",
    "\n",
    "# The functional gene classes were downloaded from\n",
    "# https://huggingface.co/datasets/ctheodoris/Genecorpus-30M/tree/main/example_input_files\n",
    "class_file = pd.read_csv('./data/Multi_class/gene_info_table.csv')\n",
    "\n",
    "# Use the 15 classes reported from the GenePT paper\n",
    "chosen_classes = [\"misc_RNA\", \"pseudogene\", \"lncRNA\", \"rRNA\", \"TR_J_gene\",\n",
    "                  \"processed_transcript\", \"antisense\", \"miRNA\", \"snRNA\",\n",
    "                  \"protein_coding\", \"IG_V_gene\", \"IG_V_pseudogene\", \"lincRNA\", \n",
    "                  \"sense_intronic\", \"snoRNA\"]\n",
    "\n",
    "class_file_sub = class_file[class_file['gene_type'].isin(chosen_classes)]\n",
    "\n",
    "# remove duplicated gene names and keep the first occurrence\n",
    "class_file_sub = class_file_sub.drop_duplicates(subset='gene_name', keep='first')\n",
    "\n",
    "class_file_sub.to_csv('./data/Multi_class/gene_info_table_15classes.csv')"
   ]
  }
 ],
 "metadata": {
  "kernelspec": {
   "display_name": "FinetuneBERT",
   "language": "python",
   "name": "python3"
  },
  "language_info": {
   "codemirror_mode": {
    "name": "ipython",
    "version": 3
   },
   "file_extension": ".py",
   "mimetype": "text/x-python",
   "name": "python",
   "nbconvert_exporter": "python",
   "pygments_lexer": "ipython3",
   "version": "3.10.15"
  }
 },
 "nbformat": 4,
 "nbformat_minor": 2
}

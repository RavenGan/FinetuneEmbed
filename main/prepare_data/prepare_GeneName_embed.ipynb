{
 "cells": [
  {
   "cell_type": "code",
   "execution_count": 1,
   "metadata": {},
   "outputs": [],
   "source": [
    "import os\n",
    "import sys\n",
    "import pickle\n",
    "import mygene\n",
    "sys.path.append('/Users/david/Desktop/FinetuneEmbed')\n",
    "from mod.utils import *\n",
    "import pandas as pd\n",
    "# Specify the working directory\n",
    "os.chdir('/Users/david/Desktop/FinetuneEmbed')"
   ]
  },
  {
   "cell_type": "code",
   "execution_count": 2,
   "metadata": {},
   "outputs": [],
   "source": [
    "### 15 class genes----\n",
    "gene_class = pd.read_csv('./data/Multi_class/gene_info_table_15classes.csv')\n",
    "gene_class_ls = list(gene_class['gene_name'])"
   ]
  },
  {
   "cell_type": "code",
   "execution_count": 3,
   "metadata": {},
   "outputs": [
    {
     "name": "stderr",
     "output_type": "stream",
     "text": [
      "2 input query terms found no hit:\t['ENSG00000269603', 'ENSG00000267841']\n"
     ]
    }
   ],
   "source": [
    "### Long- vs short- range TFs----\n",
    "# collect gene symbols for gene name embeddings\n",
    "with open(\"./data/long_vs_shortTF/example_input_files_gene_classification_tf_regulatory_range_tf_regulatory_range.pickle\", \"rb\") as f:\n",
    "    check_data = pickle.load(f)\n",
    "\n",
    "long_range_tf_gene = check_data['long_range']\n",
    "short_range_tf_gene = check_data['short_range']\n",
    "\n",
    "# convert gene id to gene symbols\n",
    "mg = mygene.MyGeneInfo()\n",
    "long_range_query = mg.querymany(long_range_tf_gene, species='human')\n",
    "short_range_query = mg.querymany(short_range_tf_gene, species='human')\n",
    "long_range_gene_name = [x['symbol'] for x in long_range_query]\n",
    "short_range_gene_name = [x['symbol'] for x in short_range_query if 'symbol' in x]\n",
    "\n",
    "long_short_range_gene = long_range_gene_name + short_range_gene_name"
   ]
  },
  {
   "cell_type": "code",
   "execution_count": 4,
   "metadata": {},
   "outputs": [
    {
     "name": "stderr",
     "output_type": "stream",
     "text": [
      "1 input query terms found no hit:\t['ENSG00000215271']\n"
     ]
    }
   ],
   "source": [
    "### Dosage sensitive vs insensitive TFs----\n",
    "with open(f\"./data/DosageSensitivity/example_input_files_gene_classification_dosage_sensitive_tfs_dosage_sensitivity_TFs.pickle\", \"rb\") as fp:\n",
    "    dosage_tfs = pickle.load(fp)\n",
    "sensitive = dosage_tfs[\"Dosage-sensitive TFs\"]\n",
    "insensitive = dosage_tfs[\"Dosage-insensitive TFs\"]\n",
    "\n",
    "# convert gene id to gene symbols\n",
    "mg = mygene.MyGeneInfo()\n",
    "sensitive_query = mg.querymany(sensitive, species='human')\n",
    "in_sensitive_query = mg.querymany(insensitive, species='human')\n",
    "sensitive_gene_name = [x['symbol'] for x in sensitive_query]\n",
    "insensitive_gene_name = [x['symbol'] for x in in_sensitive_query if 'symbol' in x]\n",
    "\n",
    "sensitive_insensitive_gene = sensitive_gene_name + insensitive_gene_name"
   ]
  },
  {
   "cell_type": "code",
   "execution_count": 5,
   "metadata": {},
   "outputs": [
    {
     "name": "stderr",
     "output_type": "stream",
     "text": [
      "10 input query terms found dup hits:\t[('ENSG00000007372', 2), ('ENSG00000110693', 2), ('ENSG00000117707', 2), ('ENSG00000120093', 2), ('E\n",
      "2 input query terms found dup hits:\t[('ENSG00000196628', 2), ('ENSG00000198728', 2)]\n"
     ]
    }
   ],
   "source": [
    "## Bivalent vs. lys4\n",
    "with open(f\"./data/MethylationState/example_input_files_gene_classification_bivalent_promoters_bivalent_vs_lys4_only.pickle\", \"rb\") as fp:\n",
    "    bivalent_vs_lys4 = pickle.load(fp)\n",
    "\n",
    "bivalent_gene_labels = bivalent_vs_lys4['bivalent']\n",
    "lysine_gene_labels = bivalent_vs_lys4['lys4_only']\n",
    "\n",
    "# convert gene id to gene symbols\n",
    "mg = mygene.MyGeneInfo()\n",
    "bivalent_query = mg.querymany(bivalent_gene_labels, species='human')\n",
    "lysine_query = mg.querymany(lysine_gene_labels, species='human')\n",
    "bivalent_gene_name = [x.get('symbol', '') for x in bivalent_query]\n",
    "lysine_gene_name = [x.get('symbol', '') for x in lysine_query if 'symbol' in x]\n",
    "\n",
    "bivalent_lysine_gene = bivalent_gene_name + lysine_gene_name"
   ]
  },
  {
   "cell_type": "code",
   "execution_count": 6,
   "metadata": {},
   "outputs": [
    {
     "name": "stderr",
     "output_type": "stream",
     "text": [
      "10 input query terms found dup hits:\t[('ENSG00000007372', 2), ('ENSG00000110693', 2), ('ENSG00000117707', 2), ('ENSG00000120093', 2), ('E\n",
      "2 input query terms found dup hits:\t[('ENSG00000147488', 2), ('ENSG00000151322', 2)]\n"
     ]
    }
   ],
   "source": [
    "## Bivalent vs. no methyl\n",
    "with open(f\"./data/MethylationState/example_input_files_gene_classification_bivalent_promoters_bivalent_vs_no_methyl.pickle\", \"rb\") as fp:\n",
    "    bivalent_vs_no_methyl = pickle.load(fp)\n",
    "\n",
    "bivalent_gene_labels = bivalent_vs_no_methyl['bivalent']\n",
    "no_methylation_gene_labels = bivalent_vs_no_methyl['no_methylation']\n",
    "\n",
    "# convert gene id to gene symbols\n",
    "mg = mygene.MyGeneInfo()\n",
    "bivalent_query = mg.querymany(bivalent_gene_labels, species='human')\n",
    "no_methylation_query = mg.querymany(no_methylation_gene_labels, species='human')\n",
    "bivalent_gene_name = [x.get('symbol', '') for x in bivalent_query]\n",
    "no_methylation_gene_name = [x.get('symbol', '') for x in no_methylation_query if 'symbol' in x]\n",
    "\n",
    "bivalent_no_methylation_gene = bivalent_gene_name + no_methylation_gene_name"
   ]
  },
  {
   "cell_type": "code",
   "execution_count": 8,
   "metadata": {},
   "outputs": [],
   "source": [
    "coherent_list = list(set(gene_class_ls + long_short_range_gene + \n",
    "                         sensitive_insensitive_gene + bivalent_lysine_gene + \n",
    "                         bivalent_no_methylation_gene))\n",
    "\n",
    "# Save\n",
    "with open('./data/embeddings/gene_name_list.pickle', 'wb') as f:\n",
    "    pickle.dump(coherent_list, f)"
   ]
  }
 ],
 "metadata": {
  "kernelspec": {
   "display_name": "FinetuneBERT",
   "language": "python",
   "name": "python3"
  },
  "language_info": {
   "codemirror_mode": {
    "name": "ipython",
    "version": 3
   },
   "file_extension": ".py",
   "mimetype": "text/x-python",
   "name": "python",
   "nbconvert_exporter": "python",
   "pygments_lexer": "ipython3",
   "version": "3.10.15"
  }
 },
 "nbformat": 4,
 "nbformat_minor": 2
}

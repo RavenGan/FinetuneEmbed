{
 "cells": [
  {
   "cell_type": "code",
   "execution_count": 1,
   "id": "0cb3da3e",
   "metadata": {},
   "outputs": [],
   "source": [
    "import os\n",
    "import pickle\n",
    "# Specify the working directory\n",
    "os.chdir('/Users/david/Desktop/FinetuneEmbed')\n",
    "from mod.utils import *\n",
    "\n",
    "with open(f\"./data/embeddings/GPT_3_5_gene_embeddings_fromGenePT.pickle\", \"rb\") as fp:\n",
    "    GPT_3_5_gene_embeddings = pickle.load(fp)"
   ]
  },
  {
   "cell_type": "markdown",
   "id": "d890098f",
   "metadata": {},
   "source": [
    "## Long- vs short- range TFs\n",
    "The input data used here are downloaded from Chen et al. (2020) (link: https://www-nature-com.stanford.idm.oclc.org/articles/s41467-020-16106-x)."
   ]
  },
  {
   "cell_type": "code",
   "execution_count": 2,
   "id": "2e15fa9e",
   "metadata": {},
   "outputs": [
    {
     "name": "stdout",
     "output_type": "stream",
     "text": [
      "Logistic regression results----------------\n",
      "Validation AUC: Mean = 0.6138, Standard Deviation = 0.0594\n",
      "Test AUC using the best model from CV: 0.5692\n",
      "Random forest results----------------\n",
      "Validation AUC: Mean = 0.6089, Standard Deviation = 0.1348\n",
      "Test AUC using the best model from CV: 0.5923\n"
     ]
    }
   ],
   "source": [
    "# prepare the input data\n",
    "with open(\"./data/long_vs_shortTF/train_data.pkl\", \"rb\") as f:\n",
    "    train_data = pickle.load(f)\n",
    "with open(\"./data/long_vs_shortTF/test_data.pkl\", \"rb\") as f:\n",
    "    test_data = pickle.load(f)\n",
    "\n",
    "X_train, y_train, X_test, y_test = load_data(train_data, test_data, GPT_3_5_gene_embeddings)\n",
    "\n",
    "print(\"Logistic regression results----------------\")\n",
    "best_model = LogisticReg_cv(X_train, y_train, folds=5)\n",
    "# Train the best model on the full training data\n",
    "best_model.fit(X_train, y_train)\n",
    "# Evaluate the best model on the test set\n",
    "y_test_pred_proba = best_model.predict_proba(X_test)[:, 1]\n",
    "test_auc = roc_auc_score(y_test, y_test_pred_proba)\n",
    "print(f\"Test AUC using the best model from CV: {test_auc:.4f}\")\n",
    "\n",
    "print(\"Random forest results----------------\")\n",
    "best_model = RandomForest_cv(X_train, y_train, folds=5)\n",
    "# Train the best model on the full training data\n",
    "best_model.fit(X_train, y_train)\n",
    "# Evaluate the best model on the test set\n",
    "y_test_pred_proba = best_model.predict_proba(X_test)[:, 1]\n",
    "test_auc = roc_auc_score(y_test, y_test_pred_proba)\n",
    "print(f\"Test AUC using the best model from CV: {test_auc:.4f}\")\n"
   ]
  },
  {
   "cell_type": "markdown",
   "id": "6fd92f2c",
   "metadata": {},
   "source": [
    "## Dosage sensitive vs insensitive TFs"
   ]
  },
  {
   "cell_type": "code",
   "execution_count": 3,
   "id": "0e239f68",
   "metadata": {},
   "outputs": [
    {
     "name": "stdout",
     "output_type": "stream",
     "text": [
      "Logistic regression results----------------\n",
      "Validation AUC: Mean = 0.8897, Standard Deviation = 0.0130\n",
      "Test AUC using the best model from CV: 0.9491\n",
      "Random forest results----------------\n",
      "Validation AUC: Mean = 0.9166, Standard Deviation = 0.0291\n",
      "Test AUC using the best model from CV: 0.9491\n"
     ]
    }
   ],
   "source": [
    "# prepare the input data\n",
    "with open(\"./data/DosageSensitivity/train_data.pkl\", \"rb\") as f:\n",
    "    train_data = pickle.load(f)\n",
    "with open(\"./data/DosageSensitivity/test_data.pkl\", \"rb\") as f:\n",
    "    test_data = pickle.load(f)\n",
    "\n",
    "X_train, y_train, X_test, y_test = load_data(train_data, test_data, GPT_3_5_gene_embeddings)\n",
    "\n",
    "print(\"Logistic regression results----------------\")\n",
    "best_model = LogisticReg_cv(X_train, y_train, folds=5)\n",
    "# Train the best model on the full training data\n",
    "best_model.fit(X_train, y_train)\n",
    "# Evaluate the best model on the test set\n",
    "y_test_pred_proba = best_model.predict_proba(X_test)[:, 1]\n",
    "test_auc = roc_auc_score(y_test, y_test_pred_proba)\n",
    "print(f\"Test AUC using the best model from CV: {test_auc:.4f}\")\n",
    "\n",
    "print(\"Random forest results----------------\")\n",
    "best_model = RandomForest_cv(X_train, y_train, folds=5)\n",
    "# Train the best model on the full training data\n",
    "best_model.fit(X_train, y_train)\n",
    "# Evaluate the best model on the test set\n",
    "y_test_pred_proba = best_model.predict_proba(X_test)[:, 1]\n",
    "test_auc = roc_auc_score(y_test, y_test_pred_proba)\n",
    "print(f\"Test AUC using the best model from CV: {test_auc:.4f}\")"
   ]
  },
  {
   "cell_type": "markdown",
   "id": "9168ad04",
   "metadata": {},
   "source": [
    "## Bivalent vs. lys4"
   ]
  },
  {
   "cell_type": "code",
   "execution_count": 4,
   "id": "4171c7ad",
   "metadata": {},
   "outputs": [
    {
     "name": "stdout",
     "output_type": "stream",
     "text": [
      "Logistic regression results----------------\n",
      "Validation AUC: Mean = 0.9538, Standard Deviation = 0.0211\n",
      "Test AUC using the best model from CV: 0.8750\n",
      "Random forest results----------------\n",
      "Validation AUC: Mean = 0.9589, Standard Deviation = 0.0149\n",
      "Test AUC using the best model from CV: 0.9313\n"
     ]
    }
   ],
   "source": [
    "# prepare the input data\n",
    "with open(\"./data/MethylationState/bivalent_vs_lys4/train_data.pkl\", \"rb\") as f:\n",
    "    train_data = pickle.load(f)\n",
    "with open(\"./data/MethylationState/bivalent_vs_lys4/test_data.pkl\", \"rb\") as f:\n",
    "    test_data = pickle.load(f)\n",
    "\n",
    "X_train, y_train, X_test, y_test = load_data(train_data, test_data, GPT_3_5_gene_embeddings)\n",
    "\n",
    "print(\"Logistic regression results----------------\")\n",
    "best_model = LogisticReg_cv(X_train, y_train, folds=5)\n",
    "# Train the best model on the full training data\n",
    "best_model.fit(X_train, y_train)\n",
    "# Evaluate the best model on the test set\n",
    "y_test_pred_proba = best_model.predict_proba(X_test)[:, 1]\n",
    "test_auc = roc_auc_score(y_test, y_test_pred_proba)\n",
    "print(f\"Test AUC using the best model from CV: {test_auc:.4f}\")\n",
    "\n",
    "print(\"Random forest results----------------\")\n",
    "best_model = RandomForest_cv(X_train, y_train, folds=5)\n",
    "# Train the best model on the full training data\n",
    "best_model.fit(X_train, y_train)\n",
    "# Evaluate the best model on the test set\n",
    "y_test_pred_proba = best_model.predict_proba(X_test)[:, 1]\n",
    "test_auc = roc_auc_score(y_test, y_test_pred_proba)\n",
    "print(f\"Test AUC using the best model from CV: {test_auc:.4f}\")"
   ]
  },
  {
   "cell_type": "markdown",
   "id": "10a37f7b",
   "metadata": {},
   "source": [
    "## Bivalent vs. no methyl"
   ]
  },
  {
   "cell_type": "code",
   "execution_count": 5,
   "id": "4a0ceadd",
   "metadata": {},
   "outputs": [
    {
     "name": "stdout",
     "output_type": "stream",
     "text": [
      "Logistic regression results----------------\n",
      "Validation AUC: Mean = 0.9149, Standard Deviation = 0.0328\n",
      "Test AUC using the best model from CV: 0.7000\n",
      "Random forest results----------------\n",
      "Validation AUC: Mean = 0.9221, Standard Deviation = 0.0283\n",
      "Test AUC using the best model from CV: 0.6875\n"
     ]
    }
   ],
   "source": [
    "# prepare the input data\n",
    "with open(\"./data/MethylationState/bivalent_vs_no_methyl/train_data.pkl\", \"rb\") as f:\n",
    "    train_data = pickle.load(f)\n",
    "with open(\"./data/MethylationState/bivalent_vs_no_methyl/test_data.pkl\", \"rb\") as f:\n",
    "    test_data = pickle.load(f)\n",
    "\n",
    "X_train, y_train, X_test, y_test = load_data(train_data, test_data, GPT_3_5_gene_embeddings)\n",
    "\n",
    "print(\"Logistic regression results----------------\")\n",
    "best_model = LogisticReg_cv(X_train, y_train, folds=5)\n",
    "# Train the best model on the full training data\n",
    "best_model.fit(X_train, y_train)\n",
    "# Evaluate the best model on the test set\n",
    "y_test_pred_proba = best_model.predict_proba(X_test)[:, 1]\n",
    "test_auc = roc_auc_score(y_test, y_test_pred_proba)\n",
    "print(f\"Test AUC using the best model from CV: {test_auc:.4f}\")\n",
    "\n",
    "print(\"Random forest results----------------\")\n",
    "best_model = RandomForest_cv(X_train, y_train, folds=5)\n",
    "# Train the best model on the full training data\n",
    "best_model.fit(X_train, y_train)\n",
    "# Evaluate the best model on the test set\n",
    "y_test_pred_proba = best_model.predict_proba(X_test)[:, 1]\n",
    "test_auc = roc_auc_score(y_test, y_test_pred_proba)\n",
    "print(f\"Test AUC using the best model from CV: {test_auc:.4f}\")"
   ]
  }
 ],
 "metadata": {
  "kernelspec": {
   "display_name": "Python 3",
   "language": "python",
   "name": "python3"
  },
  "language_info": {
   "codemirror_mode": {
    "name": "ipython",
    "version": 3
   },
   "file_extension": ".py",
   "mimetype": "text/x-python",
   "name": "python",
   "nbconvert_exporter": "python",
   "pygments_lexer": "ipython3",
   "version": "3.12.7"
  }
 },
 "nbformat": 4,
 "nbformat_minor": 5
}

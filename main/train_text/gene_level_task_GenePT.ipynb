{
 "cells": [
  {
   "cell_type": "code",
   "execution_count": 1,
   "id": "cdec6a12",
   "metadata": {},
   "outputs": [],
   "source": [
    "import pandas as pd\n",
    "import seaborn as sns\n",
    "sns.set_style(\"whitegrid\")\n",
    "import pandas as pd\n",
    "import numpy as np \n",
    "import scipy.stats as stats\n",
    "from collections import Counter\n",
    "import matplotlib.pyplot as plt\n",
    "import umap\n",
    "import matplotlib\n",
    "import mygene\n",
    "%matplotlib inline\n",
    "import pickle\n",
    "import sklearn\n",
    "import random\n",
    "from sklearn.model_selection import StratifiedKFold\n",
    "from sklearn.metrics import roc_curve, auc\n",
    "from sklearn.linear_model import LogisticRegression\n",
    "from sklearn.ensemble import RandomForestClassifier\n",
    "from sklearn.model_selection import cross_validate\n",
    "from xgboost import XGBClassifier\n",
    "import os\n",
    "# Specify the working directory\n",
    "os.chdir('/Users/david/Desktop/FinetuneEmbed')\n",
    "\n",
    "# import sentence_transformers\n",
    "plt.style.use('ggplot')\n",
    "#plt.style.use('seaborn-v0_8-dark-palette')\n",
    "plt.rcParams['axes.facecolor'] = 'white'\n",
    "plt.rcParams.update({\n",
    "    \"text.usetex\": True,\n",
    "    \"font.family\": \"Helvetica\"\n",
    "})\n",
    "import matplotlib_inline\n",
    "matplotlib_inline.backend_inline.set_matplotlib_formats('retina')"
   ]
  },
  {
   "cell_type": "code",
   "execution_count": 2,
   "id": "370b03b7",
   "metadata": {},
   "outputs": [],
   "source": [
    "with open(f\"./data/embeddings/GPT_3_5_gene_embeddings_fromGenePT.pickle\", \"rb\") as fp:\n",
    "    GPT_3_5_gene_embeddings = pickle.load(fp)"
   ]
  },
  {
   "cell_type": "markdown",
   "id": "d890098f",
   "metadata": {},
   "source": [
    "## Long- vs short- range TFs\n",
    "The input data used here are downloaded from Chen et al. (2020) (link: https://www-nature-com.stanford.idm.oclc.org/articles/s41467-020-16106-x)."
   ]
  },
  {
   "cell_type": "code",
   "execution_count": 3,
   "id": "d26a58fe",
   "metadata": {},
   "outputs": [],
   "source": [
    "# prepare the input data\n",
    "with open(\"./data/long_vs_shortTF/train_data.pkl\", \"rb\") as f:\n",
    "    train_data = pickle.load(f)\n",
    "with open(\"./data/long_vs_shortTF/test_data.pkl\", \"rb\") as f:\n",
    "    test_data = pickle.load(f)"
   ]
  },
  {
   "cell_type": "code",
   "execution_count": 4,
   "id": "e1e5b2ec",
   "metadata": {},
   "outputs": [],
   "source": [
    "train_genes = train_data['genes']\n",
    "train_labels = train_data['labels']\n",
    "\n",
    "test_genes = test_data['genes']\n",
    "test_labels = test_data['labels']"
   ]
  },
  {
   "cell_type": "code",
   "execution_count": 5,
   "id": "5522ac98",
   "metadata": {},
   "outputs": [],
   "source": [
    "overlap_train_gene = list(set(train_genes) & set(GPT_3_5_gene_embeddings.keys())) # find the intersected genes\n",
    "overlap_test_gene = list(set(test_genes) & set(GPT_3_5_gene_embeddings.keys())) # find the intersected genes\n",
    "\n",
    "train_indices = [train_genes.index(x) for x in overlap_train_gene]\n",
    "overlap_train_labels = [train_labels[i] for i in train_indices]\n",
    "\n",
    "test_indices = [test_genes.index(x) for x in overlap_test_gene]\n",
    "overlap_test_labels = [test_labels[i] for i in test_indices]\n",
    "\n",
    "\n",
    "X_train = [GPT_3_5_gene_embeddings[x] for x in overlap_train_gene \\\n",
    "               if x in GPT_3_5_gene_embeddings]\n",
    "X_train = np.array(X_train)\n",
    "y_train = overlap_train_labels\n",
    "X_test = [GPT_3_5_gene_embeddings[x] for x in overlap_test_gene \\\n",
    "                if x in GPT_3_5_gene_embeddings]\n",
    "X_test = np.array(X_test)\n",
    "y_test = overlap_test_labels"
   ]
  },
  {
   "cell_type": "code",
   "execution_count": 6,
   "id": "1add2804",
   "metadata": {},
   "outputs": [
    {
     "data": {
      "text/plain": [
       "(121, 121, 52, 52)"
      ]
     },
     "execution_count": 6,
     "metadata": {},
     "output_type": "execute_result"
    }
   ],
   "source": [
    "len(X_train), len(y_train), len(X_test), len(y_test)"
   ]
  },
  {
   "cell_type": "code",
   "execution_count": 11,
   "id": "b2d2789e",
   "metadata": {},
   "outputs": [
    {
     "name": "stdout",
     "output_type": "stream",
     "text": [
      "Logistic Regression ROC AUC: 0.5639\n",
      "Random Forest ROC AUC: 0.5714\n"
     ]
    }
   ],
   "source": [
    "# Logistic Regression\n",
    "logistic_model = LogisticRegression()\n",
    "logistic_model.fit(X_train, y_train)\n",
    "y_score_logistic = logistic_model.predict_proba(X_test)[:, 1]\n",
    "fpr, tpr, _ = roc_curve(y_test, y_score_logistic)\n",
    "roc_auc = auc(fpr, tpr)\n",
    "# Print ROC AUC scores\n",
    "print(f\"Logistic Regression ROC AUC: {roc_auc:.4f}\")\n",
    "# Random Forest\n",
    "random_forest_model = RandomForestClassifier()\n",
    "random_forest_model.fit(X_train, y_train)\n",
    "y_score_rf = random_forest_model.predict_proba(X_test)[:, 1]\n",
    "fpr, tpr, _ = roc_curve(y_test, y_score_rf)\n",
    "roc_auc = auc(fpr, tpr)\n",
    "print(f\"Random Forest ROC AUC: {roc_auc:.4f}\")"
   ]
  },
  {
   "cell_type": "markdown",
   "id": "6fd92f2c",
   "metadata": {},
   "source": [
    "## Dosage sensitive vs insensitive TFs"
   ]
  },
  {
   "cell_type": "code",
   "execution_count": 35,
   "id": "bca5f349",
   "metadata": {},
   "outputs": [],
   "source": [
    "# prepare the input data\n",
    "with open(\"./data/DosageSensitivity/train_data.pkl\", \"rb\") as f:\n",
    "    train_data = pickle.load(f)\n",
    "with open(\"./data/DosageSensitivity/test_data.pkl\", \"rb\") as f:\n",
    "    test_data = pickle.load(f)"
   ]
  },
  {
   "cell_type": "code",
   "execution_count": 36,
   "id": "ceb0d9e0",
   "metadata": {},
   "outputs": [],
   "source": [
    "train_genes = train_data['genes']\n",
    "train_labels = train_data['labels']\n",
    "\n",
    "test_genes = test_data['genes']\n",
    "test_labels = test_data['labels']"
   ]
  },
  {
   "cell_type": "code",
   "execution_count": 37,
   "id": "73d8f510",
   "metadata": {},
   "outputs": [],
   "source": [
    "overlap_train_gene = list(set(train_genes) & set(GPT_3_5_gene_embeddings.keys())) # find the intersected genes\n",
    "overlap_test_gene = list(set(test_genes) & set(GPT_3_5_gene_embeddings.keys())) # find the intersected genes"
   ]
  },
  {
   "cell_type": "code",
   "execution_count": 38,
   "id": "f9d103c3",
   "metadata": {},
   "outputs": [],
   "source": [
    "train_indices = [train_genes.index(x) for x in overlap_train_gene]\n",
    "overlap_train_labels = [train_labels[i] for i in train_indices]\n",
    "\n",
    "test_indices = [test_genes.index(x) for x in overlap_test_gene]\n",
    "overlap_test_labels = [test_labels[i] for i in test_indices]"
   ]
  },
  {
   "cell_type": "code",
   "execution_count": 39,
   "id": "a0a01f0a",
   "metadata": {},
   "outputs": [],
   "source": [
    "X_train = [GPT_3_5_gene_embeddings[x] for x in overlap_train_gene \\\n",
    "               if x in GPT_3_5_gene_embeddings]\n",
    "X_train = np.array(X_train)\n",
    "y_train = overlap_train_labels\n",
    "X_test = [GPT_3_5_gene_embeddings[x] for x in overlap_test_gene \\\n",
    "                if x in GPT_3_5_gene_embeddings]\n",
    "X_test = np.array(X_test)\n",
    "y_test = overlap_test_labels"
   ]
  },
  {
   "cell_type": "code",
   "execution_count": 40,
   "id": "c2515bd0",
   "metadata": {},
   "outputs": [
    {
     "name": "stdout",
     "output_type": "stream",
     "text": [
      "Logistic Regression ROC AUC: 0.8906\n",
      "Random Forest ROC AUC: 0.9175\n"
     ]
    }
   ],
   "source": [
    "# Logistic Regression\n",
    "logistic_model = LogisticRegression()\n",
    "logistic_model.fit(X_train, y_train)\n",
    "y_score_logistic = logistic_model.predict_proba(X_test)[:, 1]\n",
    "fpr, tpr, _ = roc_curve(y_test, y_score_logistic)\n",
    "roc_auc = auc(fpr, tpr)\n",
    "# Print ROC AUC scores\n",
    "print(f\"Logistic Regression ROC AUC: {roc_auc:.4f}\")\n",
    "# Random Forest\n",
    "random_forest_model = RandomForestClassifier()\n",
    "random_forest_model.fit(X_train, y_train)\n",
    "y_score_rf = random_forest_model.predict_proba(X_test)[:, 1]\n",
    "fpr, tpr, _ = roc_curve(y_test, y_score_rf)\n",
    "roc_auc = auc(fpr, tpr)\n",
    "print(f\"Random Forest ROC AUC: {roc_auc:.4f}\")"
   ]
  },
  {
   "cell_type": "markdown",
   "id": "9168ad04",
   "metadata": {},
   "source": [
    "## Bivalent vs. lys4"
   ]
  },
  {
   "cell_type": "code",
   "execution_count": 41,
   "id": "3a88ae4b",
   "metadata": {},
   "outputs": [
    {
     "name": "stdout",
     "output_type": "stream",
     "text": [
      "Logistic Regression ROC AUC: 0.9901\n",
      "Random Forest ROC AUC: 0.9967\n"
     ]
    }
   ],
   "source": [
    "# prepare the input data\n",
    "with open(\"./data/MethylationState/bivalent_vs_lys4/train_data.pkl\", \"rb\") as f:\n",
    "    train_data = pickle.load(f)\n",
    "with open(\"./data/MethylationState/bivalent_vs_lys4/test_data.pkl\", \"rb\") as f:\n",
    "    test_data = pickle.load(f)\n",
    "\n",
    "train_genes = train_data['genes']\n",
    "train_labels = train_data['labels']\n",
    "\n",
    "test_genes = test_data['genes']\n",
    "test_labels = test_data['labels']\n",
    "\n",
    "overlap_train_gene = list(set(train_genes) & set(GPT_3_5_gene_embeddings.keys())) # find the intersected genes\n",
    "overlap_test_gene = list(set(test_genes) & set(GPT_3_5_gene_embeddings.keys())) # find the intersected genes\n",
    "\n",
    "train_indices = [train_genes.index(x) for x in overlap_train_gene]\n",
    "overlap_train_labels = [train_labels[i] for i in train_indices]\n",
    "\n",
    "test_indices = [test_genes.index(x) for x in overlap_test_gene]\n",
    "overlap_test_labels = [test_labels[i] for i in test_indices]\n",
    "\n",
    "X_train = [GPT_3_5_gene_embeddings[x] for x in overlap_train_gene \\\n",
    "               if x in GPT_3_5_gene_embeddings]\n",
    "X_train = np.array(X_train)\n",
    "y_train = overlap_train_labels\n",
    "X_test = [GPT_3_5_gene_embeddings[x] for x in overlap_test_gene \\\n",
    "                if x in GPT_3_5_gene_embeddings]\n",
    "X_test = np.array(X_test)\n",
    "y_test = overlap_test_labels\n",
    "\n",
    "# Logistic Regression\n",
    "logistic_model = LogisticRegression()\n",
    "logistic_model.fit(X_train, y_train)\n",
    "y_score_logistic = logistic_model.predict_proba(X_test)[:, 1]\n",
    "fpr, tpr, _ = roc_curve(y_test, y_score_logistic)\n",
    "roc_auc = auc(fpr, tpr)\n",
    "# Print ROC AUC scores\n",
    "print(f\"Logistic Regression ROC AUC: {roc_auc:.4f}\")\n",
    "# Random Forest\n",
    "random_forest_model = RandomForestClassifier()\n",
    "random_forest_model.fit(X_train, y_train)\n",
    "y_score_rf = random_forest_model.predict_proba(X_test)[:, 1]\n",
    "fpr, tpr, _ = roc_curve(y_test, y_score_rf)\n",
    "roc_auc = auc(fpr, tpr)\n",
    "print(f\"Random Forest ROC AUC: {roc_auc:.4f}\")"
   ]
  },
  {
   "cell_type": "markdown",
   "id": "10a37f7b",
   "metadata": {},
   "source": [
    "## Bivalent vs. no methyl"
   ]
  },
  {
   "cell_type": "code",
   "execution_count": 42,
   "id": "f6638bcb",
   "metadata": {},
   "outputs": [
    {
     "name": "stdout",
     "output_type": "stream",
     "text": [
      "Logistic Regression ROC AUC: 0.8684\n",
      "Random Forest ROC AUC: 0.8224\n"
     ]
    }
   ],
   "source": [
    "# prepare the input data\n",
    "with open(\"./data/MethylationState/bivalent_vs_no_methyl/train_data.pkl\", \"rb\") as f:\n",
    "    train_data = pickle.load(f)\n",
    "with open(\"./data/MethylationState/bivalent_vs_no_methyl/test_data.pkl\", \"rb\") as f:\n",
    "    test_data = pickle.load(f)\n",
    "\n",
    "train_genes = train_data['genes']\n",
    "train_labels = train_data['labels']\n",
    "\n",
    "test_genes = test_data['genes']\n",
    "test_labels = test_data['labels']\n",
    "\n",
    "overlap_train_gene = list(set(train_genes) & set(GPT_3_5_gene_embeddings.keys())) # find the intersected genes\n",
    "overlap_test_gene = list(set(test_genes) & set(GPT_3_5_gene_embeddings.keys())) # find the intersected genes\n",
    "\n",
    "train_indices = [train_genes.index(x) for x in overlap_train_gene]\n",
    "overlap_train_labels = [train_labels[i] for i in train_indices]\n",
    "\n",
    "test_indices = [test_genes.index(x) for x in overlap_test_gene]\n",
    "overlap_test_labels = [test_labels[i] for i in test_indices]\n",
    "\n",
    "X_train = [GPT_3_5_gene_embeddings[x] for x in overlap_train_gene \\\n",
    "               if x in GPT_3_5_gene_embeddings]\n",
    "X_train = np.array(X_train)\n",
    "y_train = overlap_train_labels\n",
    "X_test = [GPT_3_5_gene_embeddings[x] for x in overlap_test_gene \\\n",
    "                if x in GPT_3_5_gene_embeddings]\n",
    "X_test = np.array(X_test)\n",
    "y_test = overlap_test_labels\n",
    "\n",
    "# Logistic Regression\n",
    "logistic_model = LogisticRegression()\n",
    "logistic_model.fit(X_train, y_train)\n",
    "y_score_logistic = logistic_model.predict_proba(X_test)[:, 1]\n",
    "fpr, tpr, _ = roc_curve(y_test, y_score_logistic)\n",
    "roc_auc = auc(fpr, tpr)\n",
    "# Print ROC AUC scores\n",
    "print(f\"Logistic Regression ROC AUC: {roc_auc:.4f}\")\n",
    "# Random Forest\n",
    "random_forest_model = RandomForestClassifier()\n",
    "random_forest_model.fit(X_train, y_train)\n",
    "y_score_rf = random_forest_model.predict_proba(X_test)[:, 1]\n",
    "fpr, tpr, _ = roc_curve(y_test, y_score_rf)\n",
    "roc_auc = auc(fpr, tpr)\n",
    "print(f\"Random Forest ROC AUC: {roc_auc:.4f}\")"
   ]
  }
 ],
 "metadata": {
  "kernelspec": {
   "display_name": "myenv",
   "language": "python",
   "name": "python3"
  },
  "language_info": {
   "codemirror_mode": {
    "name": "ipython",
    "version": 3
   },
   "file_extension": ".py",
   "mimetype": "text/x-python",
   "name": "python",
   "nbconvert_exporter": "python",
   "pygments_lexer": "ipython3",
   "version": "3.10.8"
  }
 },
 "nbformat": 4,
 "nbformat_minor": 5
}

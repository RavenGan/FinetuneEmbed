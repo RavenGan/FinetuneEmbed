{
 "cells": [
  {
   "cell_type": "code",
   "execution_count": 1,
   "metadata": {},
   "outputs": [
    {
     "name": "stderr",
     "output_type": "stream",
     "text": [
      "/Users/david/anaconda3/envs/FinetuneBERT/lib/python3.10/site-packages/tqdm/auto.py:21: TqdmWarning: IProgress not found. Please update jupyter and ipywidgets. See https://ipywidgets.readthedocs.io/en/stable/user_install.html\n",
      "  from .autonotebook import tqdm as notebook_tqdm\n"
     ]
    }
   ],
   "source": [
    "import os\n",
    "# Specify the working directory\n",
    "os.chdir('/Users/david/Desktop/FinetuneEmbed')\n",
    "from mod.multi_mod import *"
   ]
  },
  {
   "cell_type": "code",
   "execution_count": null,
   "metadata": {},
   "outputs": [],
   "source": [
    "model_name = 'avsolatorio/GIST-small-Embedding-v0'\n",
    "save_mod_name = 'GIST-small-Embedding-v0'"
   ]
  },
  {
   "cell_type": "code",
   "execution_count": null,
   "metadata": {},
   "outputs": [],
   "source": [
    "data_dir = \"./data/long_vs_shortTF\"\n",
    "save_csv_dir = \"./res/2024_1218/\" + save_mod_name + \"_long_vs_shortTF_auc.csv\"\n"
   ]
  },
  {
   "cell_type": "code",
   "execution_count": 3,
   "metadata": {},
   "outputs": [
    {
     "name": "stdout",
     "output_type": "stream",
     "text": [
      "NoInstruct-small-Embedding-v0\n",
      "GIST-small-Embedding-v0\n",
      "stella-base-en-v2\n",
      "bge-small-en-v1.5\n",
      "MedEmbed-small-v0.1\n",
      "gte-small\n",
      "e5-small-v2\n",
      "GIST-all-MiniLM-L6-v2\n",
      "e5-small\n",
      "gte-tiny\n"
     ]
    }
   ],
   "source": [
    "save_mod_names = ['NoInstruct-small-Embedding-v0',\n",
    "               'GIST-small-Embedding-v0',\n",
    "               'stella-base-en-v2',\n",
    "               'bge-small-en-v1.5',\n",
    "               'MedEmbed-small-v0.1',\n",
    "               'gte-small',\n",
    "               'e5-small-v2',\n",
    "               'GIST-all-MiniLM-L6-v2',\n",
    "               'e5-small',\n",
    "               'gte-tiny']\n",
    "for i in range(len(save_mod_names)):\n",
    "    print(save_mod_names[i])"
   ]
  }
 ],
 "metadata": {
  "kernelspec": {
   "display_name": "FinetuneBERT",
   "language": "python",
   "name": "python3"
  },
  "language_info": {
   "codemirror_mode": {
    "name": "ipython",
    "version": 3
   },
   "file_extension": ".py",
   "mimetype": "text/x-python",
   "name": "python",
   "nbconvert_exporter": "python",
   "pygments_lexer": "ipython3",
   "version": "3.10.15"
  }
 },
 "nbformat": 4,
 "nbformat_minor": 2
}

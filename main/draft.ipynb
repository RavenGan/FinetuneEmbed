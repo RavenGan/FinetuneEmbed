{
 "cells": [
  {
   "cell_type": "code",
   "execution_count": null,
   "metadata": {},
   "outputs": [],
   "source": [
    "import os\n",
    "import sys\n",
    "sys.path.append('/Users/david/Desktop/FinetuneEmbed')\n",
    "import json\n",
    "import pickle\n",
    "import mygene\n",
    "# Specify the working directory\n",
    "os.chdir('/Users/david/Desktop/FinetuneEmbed')\n",
    "# os.chdir('/afs/crc.nd.edu/group/StatDataMine/dm011/Dailin_Gan/FinetuneEmbed')\n",
    "# load necessary functions\n",
    "from mod.utils import *\n",
    "\n",
    "# load the gene name embeddings\n",
    "with open(f\"./data/embeddings/GeneName_embed.pickle\", \"rb\") as fp:\n",
    "    gene_name_embeddings = pickle.load(fp)\n",
    "\n",
    "random_states = list(range(41, 51)) # set up the random seeds\n",
    "eva_size = 0.1 # validation data proportions\n",
    "test_size = 0.1 # test data proportions\n"
   ]
  },
  {
   "cell_type": "code",
   "execution_count": 2,
   "metadata": {},
   "outputs": [
    {
     "name": "stderr",
     "output_type": "stream",
     "text": [
      "2 input query terms found no hit:\t['ENSG00000269603', 'ENSG00000267841']\n"
     ]
    }
   ],
   "source": [
    "### Long- vs short- range TFs----------------------------------------------------------------\n",
    "# The input data used here are downloaded from the geneformer paper Hugging Face website \n",
    "# (link: https://huggingface.co/datasets/ctheodoris/Genecorpus-30M/tree/main/example_input_files/gene_classification).\n",
    "with open(\"./data/long_vs_shortTF/example_input_files_gene_classification_tf_regulatory_range_tf_regulatory_range.pickle\", \"rb\") as f:\n",
    "    check_data = pickle.load(f)\n",
    "\n",
    "long_range_tf_gene = check_data['long_range']\n",
    "short_range_tf_gene = check_data['short_range']\n",
    "\n",
    "# convert gene id to gene symbols\n",
    "mg = mygene.MyGeneInfo()\n",
    "long_range_query = mg.querymany(long_range_tf_gene, species='human')\n",
    "short_range_query = mg.querymany(short_range_tf_gene, species='human')\n",
    "long_range_gene_name = [x['symbol'] for x in long_range_query]\n",
    "short_range_gene_name = [x['symbol'] for x in short_range_query if 'symbol' in x]\n"
   ]
  },
  {
   "cell_type": "code",
   "execution_count": 7,
   "metadata": {},
   "outputs": [],
   "source": [
    "long_range_tf_gene = list(set(long_range_gene_name) & set(gene_name_embeddings.keys())) # find the intersected genes\n",
    "short_range_tf_gene = list(set(short_range_gene_name) & set(gene_name_embeddings.keys())) # find the intersected genes"
   ]
  },
  {
   "cell_type": "code",
   "execution_count": 12,
   "metadata": {},
   "outputs": [],
   "source": [
    "genes = long_range_tf_gene + short_range_tf_gene\n",
    "# 1 for long-range TF, 0 for short-range TF\n",
    "labels = [1] * len(long_range_tf_gene) + [0] * len(short_range_tf_gene) \n",
    "save_dir = \"./data/long_vs_shortTF/TrainEvalTestData_Name\"\n",
    "# Create the directory if it does not exist\n",
    "os.makedirs(save_dir, exist_ok=True)"
   ]
  },
  {
   "cell_type": "code",
   "execution_count": 13,
   "metadata": {},
   "outputs": [],
   "source": [
    "random_state = 41\n",
    "TrainEvalTest_Name_split(genes, labels, save_dir, \n",
    "                        test_size=test_size, eval_size=eva_size, random_state=random_state)"
   ]
  }
 ],
 "metadata": {
  "kernelspec": {
   "display_name": "FinetuneBERT",
   "language": "python",
   "name": "python3"
  },
  "language_info": {
   "codemirror_mode": {
    "name": "ipython",
    "version": 3
   },
   "file_extension": ".py",
   "mimetype": "text/x-python",
   "name": "python",
   "nbconvert_exporter": "python",
   "pygments_lexer": "ipython3",
   "version": "3.10.15"
  }
 },
 "nbformat": 4,
 "nbformat_minor": 2
}

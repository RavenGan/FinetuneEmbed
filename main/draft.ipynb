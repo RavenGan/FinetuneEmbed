{
 "cells": [
  {
   "cell_type": "code",
   "execution_count": 1,
   "metadata": {},
   "outputs": [
    {
     "name": "stderr",
     "output_type": "stream",
     "text": [
      "/Users/david/anaconda3/envs/FinetuneBERT/lib/python3.10/site-packages/tqdm/auto.py:21: TqdmWarning: IProgress not found. Please update jupyter and ipywidgets. See https://ipywidgets.readthedocs.io/en/stable/user_install.html\n",
      "  from .autonotebook import tqdm as notebook_tqdm\n"
     ]
    }
   ],
   "source": [
    "import pickle\n",
    "import os\n",
    "import csv\n",
    "import numpy as np\n",
    "# Specify the working directory\n",
    "os.chdir('/Users/david/Desktop/FinetuneEmbed')\n",
    "\n",
    "from mod.mod_text import *\n",
    "from mod.options import *"
   ]
  },
  {
   "cell_type": "code",
   "execution_count": 2,
   "metadata": {},
   "outputs": [
    {
     "data": {
      "text/plain": [
       "_StoreAction(option_strings=['--final_weight_decay'], dest='final_weight_decay', nargs=None, const=None, default=0.2, type=<class 'float'>, choices=None, required=False, help='The gradient weight decay used in final training.', metavar=None)"
      ]
     },
     "execution_count": 2,
     "metadata": {},
     "output_type": "execute_result"
    }
   ],
   "source": [
    "parser = argparse.ArgumentParser(description=\"Initialize arguments for fine-tuning a model.\")\n",
    "\n",
    "parser.add_argument(\"--model_name\", type=str, default=\"GIST-small-Embedding-v0\", help=\"Name of the chosen model.\")\n",
    "parser.add_argument(\"--random_states\", type=list, default=list(range(41, 51)), help=\"Random indices used to generate data.\")\n",
    "\n",
    "# Arguments for fine-tuning\n",
    "parser.add_argument(\"--evaluation_strategy\", type=str, default=\"epoch\", help=\"The evaluation strategy used in training.\")\n",
    "parser.add_argument(\"--save_strategy\", type=str, default=\"epoch\", help=\"The checkpoint saving strategy used in training.\")\n",
    "parser.add_argument(\"--learning_rate\", type=float, default=1e-5, help=\"The learning rate used in training.\")\n",
    "parser.add_argument(\"--num_train_epochs\", type=int, default=20, help=\"The number of epoches used in training.\")\n",
    "parser.add_argument(\"--max_grad_norm\", type=float, default=0.7, help=\"The maximum gradient norm used in training.\")\n",
    "parser.add_argument(\"--warmup_ratio\", type=float, default=0.1, help=\"The warm up ratio used in training.\")\n",
    "parser.add_argument(\"--weight_decay\", type=float, default=0.2, help=\"The gradient weight decay used in training.\")\n",
    "\n",
    "# Arguments for best model final tuning\n",
    "parser.add_argument(\"--final_evaluation_strategy\", type=str, default=\"no\", help=\"The evaluation strategy used in final training.\")\n",
    "parser.add_argument(\"--final_save_strategy\", type=str, default=\"no\", help=\"The checkpoint saving strategy used in final training.\")\n",
    "parser.add_argument(\"--final_learning_rate\", type=float, default=1e-6, help=\"The learning rate used in final training.\")\n",
    "parser.add_argument(\"--final_num_train_epochs\", type=int, default=10, help=\"The number of epoches used in final training.\")\n",
    "parser.add_argument(\"--final_max_grad_norm\", type=float, default=0.7, help=\"The maximum gradient norm used in final training.\")\n",
    "parser.add_argument(\"--final_weight_decay\", type=float, default=0.2, help=\"The gradient weight decay used in final training.\")"
   ]
  },
  {
   "cell_type": "code",
   "execution_count": null,
   "metadata": {},
   "outputs": [],
   "source": [
    "\n",
    "data_dir = \"./data/long_vs_shortTF\"\n",
    "save_csv_dir = \"./res/2024_1209/NoInstruct-small-Embedding-v0/LongShortTF/long_vs_shortTF_finetune_auc.csv\"\n",
    "output_path = \"./res/2024_1209/NoInstruct-small-Embedding-v0/LongShortTF/LongShortTF_model_\"\n",
    "model_name = 'avsolatorio/NoInstruct-small-Embedding-v0'\n",
    "\n",
    "\n",
    "random_state = 41\n",
    "output_dir = output_path  + str(random_state)"
   ]
  },
  {
   "cell_type": "code",
   "execution_count": 3,
   "metadata": {},
   "outputs": [],
   "source": [
    "train_dir = data_dir + \"/TrainEvalTestData/train_data_\" + str(random_state) + \".pkl\"\n",
    "eva_dir = data_dir + \"/TrainEvalTestData/eval_data_\" + str(random_state) + \".pkl\"\n",
    "test_dir = data_dir + \"/TrainEvalTestData/test_data_\" + str(random_state) + \".pkl\"\n",
    "\n",
    "# prepare the input data\n",
    "with open(train_dir, \"rb\") as f:\n",
    "    train_data = pickle.load(f)\n",
    "with open(eva_dir, \"rb\") as f:\n",
    "    eval_data = pickle.load(f)\n",
    "with open(test_dir, \"rb\") as f:\n",
    "    test_data = pickle.load(f)"
   ]
  },
  {
   "cell_type": "code",
   "execution_count": 6,
   "metadata": {},
   "outputs": [
    {
     "data": {
      "text/plain": [
       "18"
      ]
     },
     "execution_count": 6,
     "metadata": {},
     "output_type": "execute_result"
    }
   ],
   "source": [
    "len(eval_data['genes'])"
   ]
  },
  {
   "cell_type": "code",
   "execution_count": 7,
   "metadata": {},
   "outputs": [],
   "source": [
    "train_texts, train_labels = train_data['desc'], train_data['labels']\n",
    "eval_texts, eval_labels = eval_data['desc'], eval_data['labels']\n",
    "test_texts, test_labels = test_data['desc'], test_data['labels']"
   ]
  },
  {
   "cell_type": "code",
   "execution_count": 8,
   "metadata": {},
   "outputs": [
    {
     "data": {
      "text/plain": [
       "(18, 18)"
      ]
     },
     "execution_count": 8,
     "metadata": {},
     "output_type": "execute_result"
    }
   ],
   "source": [
    "len(eval_texts), len(eval_labels)"
   ]
  },
  {
   "cell_type": "code",
   "execution_count": null,
   "metadata": {},
   "outputs": [],
   "source": [
    "from transformers import AutoTokenizer\n",
    "tokenizer = AutoTokenizer.from_pretrained(model_name)"
   ]
  },
  {
   "cell_type": "code",
   "execution_count": 10,
   "metadata": {},
   "outputs": [],
   "source": [
    "train_dataset = TextDataset(train_texts, train_labels, tokenizer)\n",
    "val_dataset = TextDataset(eval_texts, eval_labels, tokenizer)"
   ]
  },
  {
   "cell_type": "code",
   "execution_count": null,
   "metadata": {},
   "outputs": [
    {
     "data": {
      "text/plain": [
       "18"
      ]
     },
     "execution_count": 13,
     "metadata": {},
     "output_type": "execute_result"
    }
   ],
   "source": [
    "mod_dir, val_auc = one_fold_training(train_texts, train_labels, eval_texts, eval_labels, \n",
    "                                        tokenizer, output_dir, 0, model_name, args)"
   ]
  },
  {
   "cell_type": "code",
   "execution_count": null,
   "metadata": {},
   "outputs": [],
   "source": []
  }
 ],
 "metadata": {
  "kernelspec": {
   "display_name": "FinetuneBERT",
   "language": "python",
   "name": "python3"
  },
  "language_info": {
   "codemirror_mode": {
    "name": "ipython",
    "version": 3
   },
   "file_extension": ".py",
   "mimetype": "text/x-python",
   "name": "python",
   "nbconvert_exporter": "python",
   "pygments_lexer": "ipython3",
   "version": "3.10.15"
  }
 },
 "nbformat": 4,
 "nbformat_minor": 2
}

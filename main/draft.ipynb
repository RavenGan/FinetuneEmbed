{
 "cells": [
  {
   "cell_type": "code",
   "execution_count": null,
   "metadata": {},
   "outputs": [
    {
     "name": "stdout",
     "output_type": "stream",
     "text": [
      "/Users/david/Desktop/FinetuneEmbed\n"
     ]
    }
   ],
   "source": [
    "from dotenv import load_dotenv\n",
    "import numpy as np\n",
    "import os\n",
    "import sys\n",
    "import pickle\n",
    "sys.path.append('/Users/david/Desktop/FinetuneEmbed')\n",
    "\n",
    "from tqdm import tqdm\n",
    "from openai import OpenAI\n",
    "\n",
    "os.chdir('/Users/david/Desktop/FinetuneEmbed')\n",
    "print(os.getcwd())\n",
    "\n",
    "# set up the OpenAI API key CONFIDENTIAL\n",
    "load_dotenv()\n",
    "openai_api_key = os.getenv(\"OPENAI_API_KEY\")\n",
    "\n",
    "with open('./data/embeddings/gene_name_list.pickle', 'rb') as f:\n",
    "    loaded_list = pickle.load(f)\n"
   ]
  },
  {
   "cell_type": "code",
   "execution_count": 2,
   "metadata": {},
   "outputs": [
    {
     "name": "stdout",
     "output_type": "stream",
     "text": [
      "['AC083867.4', '', 'RNF187', 'ATF7IP2', 'RP4-639J15.2', 'RP11-137J7.2', 'PALB2', 'FLG2', 'AC067742.1', 'RNA5SP79']\n"
     ]
    }
   ],
   "source": [
    "loaded_list = loaded_list[0:10]\n",
    "print(loaded_list)"
   ]
  },
  {
   "cell_type": "code",
   "execution_count": 3,
   "metadata": {},
   "outputs": [],
   "source": [
    "# initiate openai client\n",
    "client = OpenAI(api_key=openai_api_key)\n",
    "\n",
    "# use the embedding model text-embedding-ada-002\n",
    "def get_gpt_embedding(client, text, model=\"text-embedding-ada-002\"):\n",
    "    text = text.replace(\"\\n\", \" \")\n",
    "    return client.embeddings.create(input = [text], model=model).data[0].embedding\n"
   ]
  },
  {
   "cell_type": "code",
   "execution_count": 4,
   "metadata": {},
   "outputs": [
    {
     "name": "stderr",
     "output_type": "stream",
     "text": [
      "100%|██████████| 10/10 [00:07<00:00,  1.37it/s]\n"
     ]
    }
   ],
   "source": [
    "gpt_gene_name_to_embedding_clean_text = {}\n",
    "GPT_DIM = 3072 # fix GPT embeddings\n",
    "for name in tqdm(loaded_list):\n",
    "    if name not in gpt_gene_name_to_embedding_clean_text:\n",
    "        # print('key', key)\n",
    "        if name == '': \n",
    "            # if the dictionary does not have information about a gene\n",
    "            gpt_gene_name_to_embedding_clean_text[name] = np.zeros(GPT_DIM) # it's hard coded to be 0\n",
    "        else:\n",
    "            gpt_gene_name_to_embedding_clean_text[name] = get_gpt_embedding(client, name) \n"
   ]
  },
  {
   "cell_type": "code",
   "execution_count": 6,
   "metadata": {},
   "outputs": [],
   "source": [
    "\n",
    "# Save\n",
    "with open('./data/embeddings/GeneName_embed.pickle', 'wb') as f:\n",
    "    pickle.dump(gpt_gene_name_to_embedding_clean_text, f)"
   ]
  }
 ],
 "metadata": {
  "kernelspec": {
   "display_name": "FinetuneBERT",
   "language": "python",
   "name": "python3"
  },
  "language_info": {
   "codemirror_mode": {
    "name": "ipython",
    "version": 3
   },
   "file_extension": ".py",
   "mimetype": "text/x-python",
   "name": "python",
   "nbconvert_exporter": "python",
   "pygments_lexer": "ipython3",
   "version": "3.10.15"
  }
 },
 "nbformat": 4,
 "nbformat_minor": 2
}

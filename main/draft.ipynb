{
 "cells": [
  {
   "cell_type": "code",
   "execution_count": 1,
   "metadata": {},
   "outputs": [],
   "source": [
    "import os\n",
    "import sys\n",
    "sys.path.append('/Users/david/Desktop/FinetuneEmbed')\n",
    "import json\n",
    "import pickle\n",
    "import pandas as pd\n",
    "\n",
    "# Specify the working directory\n",
    "os.chdir('/Users/david/Desktop/FinetuneEmbed')\n",
    "# os.chdir('/afs/crc.nd.edu/group/StatDataMine/dm011/Dailin_Gan/FinetuneEmbed')\n",
    "# load necessary functions\n",
    "from mod.utils import *\n",
    "\n",
    "# load gene name\n",
    "### 15 class genes----\n",
    "gene_class = pd.read_csv('./data/Multi_class/gene_info_table_15classes.csv')\n",
    "gene_class_ls = list(gene_class['gene_name'])\n",
    "\n",
    "# load gene ncbi descriptions\n",
    "with open(\"./data/gene_text/hs_ncbi_gene_text.json\", \"r\") as file:\n",
    "    gene_descriptions = json.load(file)\n",
    "\n",
    "with open(f\"./data/embeddings/GPT_3_5_gene_embeddings_fromGenePT.pickle\", \"rb\") as fp:\n",
    "    GPT_3_5_gene_embeddings = pickle.load(fp)\n",
    "\n",
    "random_states = list(range(41, 51)) # set up the random seeds\n",
    "eva_size = 0.1 # validation data proportions\n",
    "test_size = 0.1 # test data proportions\n"
   ]
  },
  {
   "cell_type": "code",
   "execution_count": 2,
   "metadata": {},
   "outputs": [],
   "source": [
    "overlap_genes = list(set(gene_class_ls) & set(gene_descriptions.keys())) # find the intersected genes\n",
    "overlap_genes = list(set(overlap_genes) & set(GPT_3_5_gene_embeddings.keys()))"
   ]
  },
  {
   "cell_type": "code",
   "execution_count": 3,
   "metadata": {},
   "outputs": [],
   "source": [
    "gene_class_sub = gene_class[gene_class['gene_name'].isin(overlap_genes)]"
   ]
  },
  {
   "cell_type": "code",
   "execution_count": 4,
   "metadata": {},
   "outputs": [
    {
     "data": {
      "application/vnd.microsoft.datawrangler.viewer.v0+json": {
       "columns": [
        {
         "name": "index",
         "rawType": "int64",
         "type": "integer"
        },
        {
         "name": "Unnamed: 0.1",
         "rawType": "int64",
         "type": "integer"
        },
        {
         "name": "Unnamed: 0",
         "rawType": "int64",
         "type": "integer"
        },
        {
         "name": "ensembl_id",
         "rawType": "object",
         "type": "string"
        },
        {
         "name": "gene_name",
         "rawType": "object",
         "type": "string"
        },
        {
         "name": "gene_type",
         "rawType": "object",
         "type": "string"
        }
       ],
       "ref": "48109f72-0225-444d-8a03-b87ec1a9a557",
       "rows": [
        [
         "0",
         "0",
         "0",
         "ENSG00000000003",
         "TSPAN6",
         "protein_coding"
        ],
        [
         "1",
         "1",
         "1",
         "ENSG00000000005",
         "TNMD",
         "protein_coding"
        ],
        [
         "2",
         "2",
         "2",
         "ENSG00000000419",
         "DPM1",
         "protein_coding"
        ],
        [
         "3",
         "3",
         "3",
         "ENSG00000000457",
         "SCYL3",
         "protein_coding"
        ],
        [
         "5",
         "5",
         "5",
         "ENSG00000000938",
         "FGR",
         "protein_coding"
        ]
       ],
       "shape": {
        "columns": 5,
        "rows": 5
       }
      },
      "text/html": [
       "<div>\n",
       "<style scoped>\n",
       "    .dataframe tbody tr th:only-of-type {\n",
       "        vertical-align: middle;\n",
       "    }\n",
       "\n",
       "    .dataframe tbody tr th {\n",
       "        vertical-align: top;\n",
       "    }\n",
       "\n",
       "    .dataframe thead th {\n",
       "        text-align: right;\n",
       "    }\n",
       "</style>\n",
       "<table border=\"1\" class=\"dataframe\">\n",
       "  <thead>\n",
       "    <tr style=\"text-align: right;\">\n",
       "      <th></th>\n",
       "      <th>Unnamed: 0.1</th>\n",
       "      <th>Unnamed: 0</th>\n",
       "      <th>ensembl_id</th>\n",
       "      <th>gene_name</th>\n",
       "      <th>gene_type</th>\n",
       "    </tr>\n",
       "  </thead>\n",
       "  <tbody>\n",
       "    <tr>\n",
       "      <th>0</th>\n",
       "      <td>0</td>\n",
       "      <td>0</td>\n",
       "      <td>ENSG00000000003</td>\n",
       "      <td>TSPAN6</td>\n",
       "      <td>protein_coding</td>\n",
       "    </tr>\n",
       "    <tr>\n",
       "      <th>1</th>\n",
       "      <td>1</td>\n",
       "      <td>1</td>\n",
       "      <td>ENSG00000000005</td>\n",
       "      <td>TNMD</td>\n",
       "      <td>protein_coding</td>\n",
       "    </tr>\n",
       "    <tr>\n",
       "      <th>2</th>\n",
       "      <td>2</td>\n",
       "      <td>2</td>\n",
       "      <td>ENSG00000000419</td>\n",
       "      <td>DPM1</td>\n",
       "      <td>protein_coding</td>\n",
       "    </tr>\n",
       "    <tr>\n",
       "      <th>3</th>\n",
       "      <td>3</td>\n",
       "      <td>3</td>\n",
       "      <td>ENSG00000000457</td>\n",
       "      <td>SCYL3</td>\n",
       "      <td>protein_coding</td>\n",
       "    </tr>\n",
       "    <tr>\n",
       "      <th>5</th>\n",
       "      <td>5</td>\n",
       "      <td>5</td>\n",
       "      <td>ENSG00000000938</td>\n",
       "      <td>FGR</td>\n",
       "      <td>protein_coding</td>\n",
       "    </tr>\n",
       "  </tbody>\n",
       "</table>\n",
       "</div>"
      ],
      "text/plain": [
       "   Unnamed: 0.1  Unnamed: 0       ensembl_id gene_name       gene_type\n",
       "0             0           0  ENSG00000000003    TSPAN6  protein_coding\n",
       "1             1           1  ENSG00000000005      TNMD  protein_coding\n",
       "2             2           2  ENSG00000000419      DPM1  protein_coding\n",
       "3             3           3  ENSG00000000457     SCYL3  protein_coding\n",
       "5             5           5  ENSG00000000938       FGR  protein_coding"
      ]
     },
     "execution_count": 4,
     "metadata": {},
     "output_type": "execute_result"
    }
   ],
   "source": [
    "gene_class_sub.head()"
   ]
  },
  {
   "cell_type": "code",
   "execution_count": 6,
   "metadata": {},
   "outputs": [],
   "source": [
    "random_state = 41\n",
    "genes = list(gene_class_sub['gene_name'])\n",
    "labels = list(gene_class_sub['gene_type'])\n",
    "save_dir = \"./data/Multi_class/TrainEvalTestData\"\n",
    "# Create the directory if it does not exist\n",
    "os.makedirs(save_dir, exist_ok=True)"
   ]
  },
  {
   "cell_type": "code",
   "execution_count": 7,
   "metadata": {},
   "outputs": [],
   "source": [
    "TrainEvalTest_split(genes, labels, gene_descriptions, save_dir, \n",
    "                        test_size=test_size, eval_size=eva_size, random_state=random_state)"
   ]
  }
 ],
 "metadata": {
  "kernelspec": {
   "display_name": "FinetuneBERT",
   "language": "python",
   "name": "python3"
  },
  "language_info": {
   "codemirror_mode": {
    "name": "ipython",
    "version": 3
   },
   "file_extension": ".py",
   "mimetype": "text/x-python",
   "name": "python",
   "nbconvert_exporter": "python",
   "pygments_lexer": "ipython3",
   "version": "3.10.15"
  }
 },
 "nbformat": 4,
 "nbformat_minor": 2
}

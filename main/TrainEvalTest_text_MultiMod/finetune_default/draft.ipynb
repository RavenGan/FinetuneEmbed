{
 "cells": [
  {
   "cell_type": "code",
   "execution_count": 1,
   "metadata": {},
   "outputs": [
    {
     "name": "stderr",
     "output_type": "stream",
     "text": [
      "/Users/david/anaconda3/envs/FinetuneBERT/lib/python3.10/site-packages/tqdm/auto.py:21: TqdmWarning: IProgress not found. Please update jupyter and ipywidgets. See https://ipywidgets.readthedocs.io/en/stable/user_install.html\n",
      "  from .autonotebook import tqdm as notebook_tqdm\n"
     ]
    }
   ],
   "source": [
    "import pickle\n",
    "import os\n",
    "import csv\n",
    "import sys\n",
    "sys.path.append('/Users/david/Desktop/FinetuneEmbed')\n",
    "# sys.path.append('/afs/crc.nd.edu/group/StatDataMine/dm011/Dailin_Gan/FinetuneEmbed')\n",
    "import numpy as np\n",
    "# Specify the working directory\n",
    "os.chdir('/Users/david/Desktop/FinetuneEmbed')\n",
    "# os.chdir('/afs/crc.nd.edu/group/StatDataMine/dm011/Dailin_Gan/FinetuneEmbed')\n",
    "\n",
    "from mod.mod_text import *\n",
    "from mod.options import *\n"
   ]
  },
  {
   "cell_type": "code",
   "execution_count": 2,
   "metadata": {},
   "outputs": [
    {
     "name": "stderr",
     "output_type": "stream",
     "text": [
      "usage: ipykernel_launcher.py [-h] --data_dir DATA_DIR --csv_dir CSV_DIR\n",
      "                             --output_path OUTPUT_PATH\n",
      "                             [--model_name MODEL_NAME]\n",
      "                             [--random_states RANDOM_STATES]\n",
      "                             [--evaluation_strategy EVALUATION_STRATEGY]\n",
      "                             [--save_strategy SAVE_STRATEGY]\n",
      "                             [--learning_rate LEARNING_RATE]\n",
      "                             [--num_train_epochs NUM_TRAIN_EPOCHS]\n",
      "                             [--max_grad_norm MAX_GRAD_NORM]\n",
      "                             [--warmup_ratio WARMUP_RATIO]\n",
      "                             [--weight_decay WEIGHT_DECAY]\n",
      "                             [--final_evaluation_strategy FINAL_EVALUATION_STRATEGY]\n",
      "                             [--final_save_strategy FINAL_SAVE_STRATEGY]\n",
      "                             [--final_learning_rate FINAL_LEARNING_RATE]\n",
      "                             [--final_num_train_epochs FINAL_NUM_TRAIN_EPOCHS]\n",
      "                             [--final_max_grad_norm FINAL_MAX_GRAD_NORM]\n",
      "                             [--final_weight_decay FINAL_WEIGHT_DECAY]\n",
      "ipykernel_launcher.py: error: ambiguous option: --f=/Users/david/Library/Jupyter/runtime/kernel-v3e4d504eaec85835c493723d49906e31a92e4c549.json could match --final_evaluation_strategy, --final_save_strategy, --final_learning_rate, --final_num_train_epochs, --final_max_grad_norm, --final_weight_decay\n"
     ]
    },
    {
     "ename": "SystemExit",
     "evalue": "2",
     "output_type": "error",
     "traceback": [
      "An exception has occurred, use %tb to see the full traceback.\n",
      "\u001b[0;31mSystemExit\u001b[0m\u001b[0;31m:\u001b[0m 2\n"
     ]
    },
    {
     "name": "stderr",
     "output_type": "stream",
     "text": [
      "/Users/david/anaconda3/envs/FinetuneBERT/lib/python3.10/site-packages/IPython/core/interactiveshell.py:3585: UserWarning: To exit: use 'exit', 'quit', or Ctrl-D.\n",
      "  warn(\"To exit: use 'exit', 'quit', or Ctrl-D.\", stacklevel=1)\n"
     ]
    }
   ],
   "source": [
    "# Create the parser\n",
    "parser = init_parser()\n",
    "# Parse arguments\n",
    "args = parser.parse_args()\n",
    "\n",
    "data_dir = \"./data/long_vs_shortTF\"\n",
    "\n",
    "save_csv_dir = \"./res/2025_0528/NoInstruct-small-Embedding-v0/LongShortTF/long_vs_shortTF_finetune_auc.csv\"\n",
    "os.makedirs(save_csv_dir, exist_ok=True)\n",
    "output_path = \"./res/2025_0528/NoInstruct-small-Embedding-v0/LongShortTF/LongShortTF_model_\"\n",
    "os.makedirs(output_path, exist_ok=True)\n",
    "\n",
    "model_name = \"avsolatorio/NoInstruct-small-Embedding-v0\"\n",
    "random_states = list(range(41, 42))"
   ]
  },
  {
   "cell_type": "code",
   "execution_count": null,
   "metadata": {},
   "outputs": [],
   "source": [
    "random_state = 41\n",
    "output_dir = output_path  + str(random_state)\n",
    "\n",
    "train_dir = data_dir + \"/TrainEvalTestData/train_data_\" + str(random_state) + \".pkl\"\n",
    "eva_dir = data_dir + \"/TrainEvalTestData/eval_data_\" + str(random_state) + \".pkl\"\n",
    "test_dir = data_dir + \"/TrainEvalTestData/test_data_\" + str(random_state) + \".pkl\"\n",
    "\n",
    "# prepare the input data\n",
    "with open(train_dir, \"rb\") as f:\n",
    "    train_data = pickle.load(f)\n",
    "with open(eva_dir, \"rb\") as f:\n",
    "    eval_data = pickle.load(f)\n",
    "with open(test_dir, \"rb\") as f:\n",
    "    test_data = pickle.load(f)\n",
    "\n",
    "val_auc_scores = []\n",
    "        \n",
    "train_texts, train_labels = train_data['desc'], train_data['labels']\n",
    "eval_texts, eval_labels = eval_data['desc'], eval_data['labels']\n",
    "test_texts, test_labels = test_data['desc'], test_data['labels']\n",
    "\n",
    "tokenizer = AutoTokenizer.from_pretrained(model_name)"
   ]
  }
 ],
 "metadata": {
  "kernelspec": {
   "display_name": "FinetuneBERT",
   "language": "python",
   "name": "python3"
  },
  "language_info": {
   "codemirror_mode": {
    "name": "ipython",
    "version": 3
   },
   "file_extension": ".py",
   "mimetype": "text/x-python",
   "name": "python",
   "nbconvert_exporter": "python",
   "pygments_lexer": "ipython3",
   "version": "3.10.15"
  }
 },
 "nbformat": 4,
 "nbformat_minor": 2
}

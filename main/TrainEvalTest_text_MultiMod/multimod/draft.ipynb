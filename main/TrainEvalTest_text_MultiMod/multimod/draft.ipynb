{
 "cells": [
  {
   "cell_type": "code",
   "execution_count": 1,
   "metadata": {},
   "outputs": [
    {
     "name": "stderr",
     "output_type": "stream",
     "text": [
      "/Users/david/anaconda3/envs/FinetuneBERT/lib/python3.10/site-packages/tqdm/auto.py:21: TqdmWarning: IProgress not found. Please update jupyter and ipywidgets. See https://ipywidgets.readthedocs.io/en/stable/user_install.html\n",
      "  from .autonotebook import tqdm as notebook_tqdm\n"
     ]
    }
   ],
   "source": [
    "import os\n",
    "import sys\n",
    "sys.path.append('/Users/david/Desktop/FinetuneEmbed')\n",
    "# sys.path.append('/afs/crc.nd.edu/group/StatDataMine/dm011/Dailin_Gan/FinetuneEmbed')\n",
    "\n",
    "# Specify the working directory\n",
    "os.chdir('/Users/david/Desktop/FinetuneEmbed')\n",
    "# os.chdir('/afs/crc.nd.edu/group/StatDataMine/dm011/Dailin_Gan/FinetuneEmbed')\n",
    "from mod.multi_mod import *\n",
    "\n",
    "random_states = list(range(41, 42)) # set up the random seeds\n"
   ]
  },
  {
   "cell_type": "code",
   "execution_count": 2,
   "metadata": {},
   "outputs": [],
   "source": [
    "model_names = [\"dmis-lab/biobert-base-cased-v1.1\",\n",
    "               'infgrad/stella-base-en-v2']\n",
    "\n",
    "save_mod_names = [\"biobert-base-cased-v1.1\",\n",
    "                  'stella-base-en-v2']"
   ]
  },
  {
   "cell_type": "code",
   "execution_count": 3,
   "metadata": {},
   "outputs": [
    {
     "ename": "",
     "evalue": "",
     "output_type": "error",
     "traceback": [
      "\u001b[1;31mThe Kernel crashed while executing code in the current cell or a previous cell. \n",
      "\u001b[1;31mPlease review the code in the cell(s) to identify a possible cause of the failure. \n",
      "\u001b[1;31mClick <a href='https://aka.ms/vscodeJupyterKernelCrash'>here</a> for more info. \n",
      "\u001b[1;31mView Jupyter <a href='command:jupyter.viewOutput'>log</a> for further details."
     ]
    }
   ],
   "source": [
    "do_cv = True\n",
    "do_pca = False\n",
    "n_PCs = 20 # 384 the sample size of most tasks is less than 384, so we set n_PCs to 20 \n",
    "\n",
    "for i in range(len(model_names)):\n",
    "     model_name = model_names[i]\n",
    "     save_mod_name = save_mod_names[i]\n",
    "\n",
    "     ## Long- vs short- range TFs\n",
    "     # The input data used here are downloaded from Chen et al. (2020) \n",
    "     # (link: https://www-nature-com.stanford.idm.oclc.org/articles/s41467-020-16106-x).\n",
    "     data_dir = \"./data/Multi_class/TrainEvalTestData\"\n",
    "     save_csv_dir = \"./res/2025_0525/\" + save_mod_name + \"_Multi_class_NumRes_pca.csv\"\n",
    "     ROC_save_dir = \"./res/2025_0525/Multi_class/\" + save_mod_name + \"/pca_\"\n",
    "\n",
    "     smallmod_multiple_run_TrainTest(data_dir, save_csv_dir, random_states, model_name, do_cv,\n",
    "                                     ROC_save_dir, do_pca=do_pca, n_PCs=n_PCs)"
   ]
  },
  {
   "cell_type": "code",
   "execution_count": null,
   "metadata": {},
   "outputs": [],
   "source": [
    "import os\n",
    "import sys\n",
    "sys.path.append('/Users/david/Desktop/FinetuneEmbed')\n",
    "# sys.path.append('/afs/crc.nd.edu/group/StatDataMine/dm011/Dailin_Gan/FinetuneEmbed')\n",
    "\n",
    "# Specify the working directory\n",
    "os.chdir('/Users/david/Desktop/FinetuneEmbed')\n",
    "# os.chdir('/afs/crc.nd.edu/group/StatDataMine/dm011/Dailin_Gan/FinetuneEmbed')\n",
    "import pickle\n",
    "\n",
    "with open(\"./res/2025_0525/long_vs_shortTF/NoInstruct-small-Embedding-v0/random_state_41/LR_CV_roc_data.pkl\", \"rb\") as f:\n",
    "    roc_data = pickle.load(f)\n",
    "\n",
    "y_test_bin = roc_data['y_test_bin']\n",
    "y_test_proba = roc_data['y_test_proba']\n",
    "classes = roc_data['classes']"
   ]
  },
  {
   "cell_type": "code",
   "execution_count": null,
   "metadata": {},
   "outputs": [],
   "source": [
    "import matplotlib.pyplot as plt\n",
    "from sklearn.metrics import roc_curve, auc\n",
    "import numpy as np\n",
    "\n",
    "n_classes = len(classes)\n",
    "\n",
    "# Multi-class case\n",
    "if isinstance(y_test_bin, np.ndarray) and y_test_bin.ndim > 1:\n",
    "    plt.figure()\n",
    "    for i in range(n_classes):\n",
    "        fpr, tpr, _ = roc_curve(y_test_bin[:, i], y_test_proba[:, i])\n",
    "        roc_auc = auc(fpr, tpr)\n",
    "        plt.plot(fpr, tpr, label=f\"Class {classes[i]} (AUC = {roc_auc:.3f})\")\n",
    "    plt.plot([0, 1], [0, 1], 'k--')\n",
    "    plt.xlabel(\"False Positive Rate\")\n",
    "    plt.ylabel(\"True Positive Rate\")\n",
    "    plt.title(\"Multi-class ROC Curve\")\n",
    "    plt.legend(loc=\"lower right\")\n",
    "    plt.grid(True)\n",
    "    plt.tight_layout()\n",
    "    plt.show()\n",
    "\n",
    "# Binary case\n",
    "else:\n",
    "    fpr, tpr, _ = roc_curve(y_test_bin, y_test_proba[:, 1])\n",
    "    roc_auc = auc(fpr, tpr)\n",
    "    plt.figure()\n",
    "    plt.plot(fpr, tpr, label=f\"ROC Curve (AUC = {roc_auc:.3f})\")\n",
    "    plt.plot([0, 1], [0, 1], 'k--')\n",
    "    plt.xlabel(\"False Positive Rate\")\n",
    "    plt.ylabel(\"True Positive Rate\")\n",
    "    plt.title(\"Binary ROC Curve\")\n",
    "    plt.legend(loc=\"lower right\")\n",
    "    plt.grid(True)\n",
    "    plt.tight_layout()\n",
    "    plt.show()"
   ]
  }
 ],
 "metadata": {
  "kernelspec": {
   "display_name": "FinetuneBERT",
   "language": "python",
   "name": "python3"
  },
  "language_info": {
   "codemirror_mode": {
    "name": "ipython",
    "version": 3
   },
   "file_extension": ".py",
   "mimetype": "text/x-python",
   "name": "python",
   "nbconvert_exporter": "python",
   "pygments_lexer": "ipython3",
   "version": "3.10.15"
  }
 },
 "nbformat": 4,
 "nbformat_minor": 2
}
